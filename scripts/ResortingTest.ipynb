{
 "cells": [
  {
   "cell_type": "code",
   "execution_count": 1,
   "metadata": {},
   "outputs": [],
   "source": [
    "import sys\n",
    "import os\n",
    "if sys.platform == \"win32\":\n",
    "    os.add_dll_directory(os.path.abspath('') + \"/../\")\n",
    "sys.path.insert(0, os.path.abspath('') + \"/../\")\n",
    "import resorting_cpp"
   ]
  },
  {
   "cell_type": "code",
   "execution_count": 3,
   "metadata": {},
   "outputs": [
    {
     "name": "stdout",
     "output_type": "stream",
     "text": [
      "383\n"
     ]
    },
    {
     "ename": "RuntimeError",
     "evalue": "logger with name 'logger' already exists",
     "output_type": "error",
     "traceback": [
      "\u001b[0;31m---------------------------------------------------------------------------\u001b[0m",
      "\u001b[0;31mRuntimeError\u001b[0m                              Traceback (most recent call last)",
      "Input \u001b[0;32mIn [3]\u001b[0m, in \u001b[0;36m<cell line: 22>\u001b[0;34m()\u001b[0m\n\u001b[1;32m     20\u001b[0m col_start \u001b[38;5;241m=\u001b[39m (total_side_length \u001b[38;5;241m-\u001b[39m filled_length) \u001b[38;5;241m/\u001b[39m\u001b[38;5;241m/\u001b[39m \u001b[38;5;241m2\u001b[39m\n\u001b[1;32m     21\u001b[0m comp_zone \u001b[38;5;241m=\u001b[39m (row_start, row_start \u001b[38;5;241m+\u001b[39m filled_length, col_start, col_start \u001b[38;5;241m+\u001b[39m filled_length)\n\u001b[0;32m---> 22\u001b[0m moves_parallel \u001b[38;5;241m=\u001b[39m \u001b[43mresorting_cpp\u001b[49m\u001b[38;5;241;43m.\u001b[39;49m\u001b[43msortParallel\u001b[49m\u001b[43m(\u001b[49m\u001b[43mstate_array_copy2\u001b[49m\u001b[43m,\u001b[49m\u001b[43m \u001b[49m\u001b[38;5;241;43m*\u001b[39;49m\u001b[43mcomp_zone\u001b[49m\u001b[43m)\u001b[49m\n\u001b[1;32m     23\u001b[0m \u001b[38;5;28mprint\u001b[39m(\u001b[38;5;28mlen\u001b[39m(moves_parallel))\n\u001b[1;32m     24\u001b[0m \u001b[38;5;28;01mfor\u001b[39;00m move \u001b[38;5;129;01min\u001b[39;00m moves_parallel:\n",
      "\u001b[0;31mRuntimeError\u001b[0m: logger with name 'logger' already exists"
     ]
    }
   ],
   "source": [
    "import random\n",
    "import numpy as np\n",
    "\n",
    "total_side_length = 40\n",
    "filled_length = 20\n",
    "state_array = np.ndarray((total_side_length,total_side_length),dtype=bool)\n",
    "\n",
    "for i in range(total_side_length):\n",
    "    for j in range(total_side_length):\n",
    "        state_array[i,j] = random.random() > 0.5\n",
    "filled_shape = np.array([filled_length,filled_length],np.int32)\n",
    "\n",
    "state_array_copy = state_array.copy()\n",
    "state_array_copy2 = state_array.copy()\n",
    "\n",
    "moves = resorting_cpp.sortSequentiallyByRow(state_array, filled_shape)\n",
    "print(len(moves))\n",
    "\n",
    "row_start = (total_side_length - filled_length) // 2\n",
    "col_start = (total_side_length - filled_length) // 2\n",
    "comp_zone = (row_start, row_start + filled_length, col_start, col_start + filled_length)\n",
    "moves_parallel = resorting_cpp.sortParallel(state_array_copy2, *comp_zone)\n",
    "print(len(moves_parallel))\n",
    "for move in moves_parallel:\n",
    "    print(\"Move of length \" + str(len(move.steps)))\n",
    "    for step in move.steps:\n",
    "        print(\"Row: \" + str(step.rowSelection))\n",
    "        print(\"Col: \" + str(step.colSelection))"
   ]
  },
  {
   "cell_type": "code",
   "execution_count": null,
   "metadata": {},
   "outputs": [
    {
     "data": {
      "image/png": "[encoded data removed]",
      "text/plain": [
       "<Figure size 640x480 with 1 Axes>"
      ]
     },
     "metadata": {},
     "output_type": "display_data"
    },
    {
     "data": {
      "image/png": "[encoded data removed]",
      "text/plain": [
       "<Figure size 640x480 with 1 Axes>"
      ]
     },
     "metadata": {},
     "output_type": "display_data"
    }
   ],
   "source": [
    "import matplotlib.pyplot as plt\n",
    "import matplotlib.animation as animation\n",
    "import matplotlib.colors as mplcolors\n",
    "\n",
    "# Visualization\n",
    "moveIndex = 0\n",
    "moveCount = 0\n",
    "\n",
    "levels = [0, 1, 2, 3, 4]\n",
    "colors = ['white', 'black', 'green', 'red']\n",
    "cmap, norm = mplcolors.from_levels_and_colors(levels, colors)\n",
    "\n",
    "state_array_backup = state_array_copy.copy()\n",
    "\n",
    "fig, ax = plt.subplots()\n",
    "mat = ax.matshow(state_array_copy, cmap=cmap, norm=norm, interpolation='none')\n",
    "plt.show()\n",
    "for move in moves:\n",
    "    if move.xDir != 0:\n",
    "        for xtmp in range(move.x + move.xDir, move.x, -np.sign(move.xDir)):\n",
    "            if(state_array_copy[move.y,xtmp]):\n",
    "                print(\"Atom in movement path at \" + str(xtmp) + \"/\" + str(move.y))\n",
    "    else:\n",
    "        for ytmp in range(move.y + move.yDir, move.y, -np.sign(move.yDir)):\n",
    "            if(state_array_copy[ytmp,move.x]):\n",
    "                print(\"Atom in movement path at \" + str(move.x) + \"/\" + str(ytmp))\n",
    "    if not state_array_copy[move.y,move.x]:\n",
    "        print(\"Starting location not filled\")\n",
    "    state_array_copy[move.y,move.x] = 0\n",
    "    state_array_copy[move.y + move.yDir,move.x + move.xDir] = 1\n",
    "for x in range((total_side_length - filled_length) // 2, (total_side_length - filled_length) // 2 + filled_length):\n",
    "    for y in range((total_side_length - filled_length) // 2, (total_side_length - filled_length) // 2 + filled_length):\n",
    "        if not state_array_copy[y,x]:\n",
    "            print(\"Target location not filled\")\n",
    "fig, ax = plt.subplots()\n",
    "mat = ax.matshow(state_array_copy, cmap=cmap, norm=norm, interpolation='none')\n",
    "plt.show()\n",
    "\n",
    "state_array_copy = state_array_backup.astype(np.int32)\n",
    "\n",
    "def applyMove():\n",
    "    global moveIndex, state_array_copy\n",
    "    for x in range(0,total_side_length):\n",
    "        for y in range(0,total_side_length):\n",
    "            if state_array_copy[y,x] > 1:\n",
    "                state_array_copy[y,x] = 0\n",
    "    if moveIndex >= len(moves):\n",
    "        return\n",
    "    move = moves[moveIndex]\n",
    "    moveIndex += 1\n",
    "    state_array_copy[move.y,move.x] = 0\n",
    "    state_array_copy[move.y + move.yDir,move.x + move.xDir] = 1\n",
    "    if move.xDir != 0:\n",
    "        for xtmp in range(move.x, move.x + move.xDir, np.sign(move.xDir)):\n",
    "            state_array_copy[move.y,xtmp] = 2\n",
    "    else:\n",
    "        for ytmp in range(move.y, move.y + move.yDir, np.sign(move.yDir)):\n",
    "            state_array_copy[ytmp,move.x] = 2\n",
    "    state_array_copy[move.y,move.x] = 3\n",
    "\n",
    "def update(i):\n",
    "    applyMove()\n",
    "    mat.set_data(state_array_copy)\n",
    "    return mat\n",
    "\n",
    "fig, ax = plt.subplots()\n",
    "mat = ax.matshow(state_array_copy, cmap=cmap, norm=norm, interpolation='none')\n",
    "ani = animation.FuncAnimation(fig, update, len(moves) + 20, interval=100)\n",
    "ani.save('animationS1.mp4')\n",
    "plt.show()"
   ]
  }
 ],
 "metadata": {
  "kernelspec": {
   "display_name": "Python 3",
   "language": "python",
   "name": "python3"
  },
  "language_info": {
   "codemirror_mode": {
    "name": "ipython",
    "version": 3
   },
   "file_extension": ".py",
   "mimetype": "text/x-python",
   "name": "python",
   "nbconvert_exporter": "python",
   "pygments_lexer": "ipython3",
   "version": "3.10.12"
  }
 },
 "nbformat": 4,
 "nbformat_minor": 2
}
